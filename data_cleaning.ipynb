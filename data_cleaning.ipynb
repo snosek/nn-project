{
 "cells": [
  {
   "cell_type": "code",
   "execution_count": 1,
   "metadata": {},
   "outputs": [
    {
     "name": "stderr",
     "output_type": "stream",
     "text": [
      "/var/folders/7y/z4ckz2m16zvb_lc_v2ddsc000000gn/T/ipykernel_3632/4080705752.py:7: FutureWarning: Downcasting behavior in `replace` is deprecated and will be removed in a future version. To retain the old behavior, explicitly call `result.infer_objects(copy=False)`. To opt-in to the future behavior, set `pd.set_option('future.no_silent_downcasting', True)`\n",
      "  urls['status'] = urls.status.replace(['legitimate', 'phishing'], [0, 1])\n"
     ]
    }
   ],
   "source": [
    "import pandas as pd\n",
    "\n",
    "urls_train = pd.read_parquet('Training.parquet')\n",
    "urls_test = pd.read_parquet('Testing.parquet')\n",
    "\n",
    "urls = pd.concat([urls_train, urls_test]).reset_index().drop(['index'], axis = 1)\n",
    "urls['status'] = urls.status.replace(['legitimate', 'phishing'], [0, 1])"
   ]
  },
  {
   "cell_type": "code",
   "execution_count": 2,
   "metadata": {},
   "outputs": [],
   "source": [
    "urls_temp = urls.drop('url', axis=1, inplace=False)"
   ]
  },
  {
   "cell_type": "code",
   "execution_count": 3,
   "metadata": {},
   "outputs": [
    {
     "data": {
      "text/plain": [
       "Index(['length_url', 'length_hostname', 'ip', 'nb_dots', 'nb_qm', 'nb_eq',\n",
       "       'nb_slash', 'nb_www', 'ratio_digits_url', 'ratio_digits_host',\n",
       "       'tld_in_subdomain', 'prefix_suffix', 'shortest_word_host',\n",
       "       'longest_words_raw', 'longest_word_path', 'phish_hints',\n",
       "       'nb_hyperlinks', 'ratio_intHyperlinks', 'empty_title',\n",
       "       'domain_in_title', 'domain_age', 'google_index', 'page_rank', 'status'],\n",
       "      dtype='object')"
      ]
     },
     "execution_count": 3,
     "metadata": {},
     "output_type": "execute_result"
    }
   ],
   "source": [
    "# kolumny z wysoka korelacja ze statusem\n",
    "cols = urls_temp.corr()[abs(urls_temp.corr()['status']) > 0.2]['status'].index\n",
    "cols"
   ]
  },
  {
   "cell_type": "code",
   "execution_count": 4,
   "metadata": {},
   "outputs": [],
   "source": [
    "# usuniecie trudnych do wyciagniecia danych\n",
    "cols = cols.difference(['ip', 'prefix_suffix', 'phish_hints', 'nb_hyperlinks', 'ratio_intHyperlinks', 'ratio_intHyperlinks', 'domain_in_title', 'domain_age', 'google_index', 'page_rank'])\n",
    "urls = urls[cols]\n",
    "\n",
    "cols_cat = [col for col in urls.columns if len(urls[col].value_counts()) == 2 and 'nb' not in col]\n",
    "# te kolumny numeryczne potrzebne do normalizacji\n",
    "cols_num = list(set(urls.columns) - set(cols_cat) - {'url'})"
   ]
  },
  {
   "cell_type": "code",
   "execution_count": 5,
   "metadata": {},
   "outputs": [],
   "source": [
    "# normalizacja\n",
    "from sklearn.preprocessing import MinMaxScaler\n",
    "\n",
    "scaler = MinMaxScaler(feature_range=(0,1))\n",
    "\n",
    "for col in cols_num:\n",
    "    urls[col] = scaler.fit_transform(pd.DataFrame(urls[col]))\n"
   ]
  },
  {
   "cell_type": "code",
   "execution_count": 6,
   "metadata": {},
   "outputs": [],
   "source": [
    "# podzial na zmienne objasniajace i objasniane\n",
    "cols_X = list(urls.columns)\n",
    "cols_X.remove('status')\n",
    "\n",
    "urls_X = urls[cols_X]\n",
    "urls_y = urls['status']"
   ]
  },
  {
   "cell_type": "code",
   "execution_count": 7,
   "metadata": {},
   "outputs": [
    {
     "data": {
      "text/plain": [
       "7"
      ]
     },
     "execution_count": 7,
     "metadata": {},
     "output_type": "execute_result"
    }
   ],
   "source": [
    "# pca\n",
    "from sklearn.decomposition import PCA\n",
    "\n",
    "pca = PCA()\n",
    "\n",
    "pca.fit(urls_X)\n",
    "\n",
    "sum = 0\n",
    "global pca_dim\n",
    "pca_dim = 0\n",
    "while (sum < 0.95):\n",
    "    sum += pca.explained_variance_ratio_[pca_dim]\n",
    "    pca_dim += 1\n",
    "\n",
    "pca = PCA(n_components=pca_dim)\n",
    "\n",
    "urls_X = pd.DataFrame(pca.fit_transform(urls_X))"
   ]
  },
  {
   "cell_type": "code",
   "execution_count": 22,
   "metadata": {},
   "outputs": [],
   "source": [
    "# zapisanie danych\n",
    "urls = pd.concat((urls_X, urls_y), axis=1)\n",
    "urls.to_csv(\"data_clean.csv\", index=False)"
   ]
  }
 ],
 "metadata": {
  "kernelspec": {
   "display_name": ".venv",
   "language": "python",
   "name": "python3"
  },
  "language_info": {
   "codemirror_mode": {
    "name": "ipython",
    "version": 3
   },
   "file_extension": ".py",
   "mimetype": "text/x-python",
   "name": "python",
   "nbconvert_exporter": "python",
   "pygments_lexer": "ipython3",
   "version": "3.12.3"
  }
 },
 "nbformat": 4,
 "nbformat_minor": 2
}
